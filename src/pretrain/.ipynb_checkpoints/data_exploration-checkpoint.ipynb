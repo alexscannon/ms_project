{
 "cells": [
  {
   "cell_type": "code",
   "execution_count": null,
   "id": "adb96b0b",
   "metadata": {
    "vscode": {
     "languageId": "plaintext"
    }
   },
   "outputs": [],
   "source": [
    "import torch"
   ]
  }
 ],
 "metadata": {
  "language_info": {
   "name": "python"
  }
 },
 "nbformat": 4,
 "nbformat_minor": 5
}
